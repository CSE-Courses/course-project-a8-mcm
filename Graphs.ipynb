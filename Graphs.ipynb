{
 "cells": [
  {
   "cell_type": "code",
   "execution_count": 30,
   "metadata": {},
   "outputs": [],
   "source": [
    "# Import webscraped data \n",
    "from webscrape import *\n",
    "\n",
    "# Importing numpy and panda packages\n",
    "import numpy as np\n",
    "import pandas as pd\n",
    "\n",
    "# Data Visualization\n",
    "import matplotlib.pyplot as plt\n",
    "import mplfinance as mpf"
   ]
  },
  {
   "cell_type": "code",
   "execution_count": 31,
   "metadata": {},
   "outputs": [],
   "source": [
    "\"\"\"\n",
    "    closeLine(stock):\n",
    "        Converts the stock data into a csv file. Then read data into a dataframe using panda. It reverses the\n",
    "        table data to have the oldest date at the top and newest at the bottom. Then it will save the line graph of close \n",
    "        as a line.png.\n",
    "\"\"\"\n",
    "def closeLine(stock):\n",
    "    url = get_url(stock)\n",
    "    write_to_csv(url)\n",
    "    df = pd.read_csv('output.csv', index_col=0, parse_dates=True)\n",
    "    df = df.reindex(index=df.index[::-1])\n",
    "    df.plot(y=\"Close\", ylabel=\"Price\", figsize=(10,8), title=get_company_name(url), rot=90)\n",
    "    plt.savefig(\"line.png\")"
   ]
  },
  {
   "cell_type": "code",
   "execution_count": 32,
   "metadata": {},
   "outputs": [],
   "source": [
    "\"\"\"\n",
    "    candleStick(stock):\n",
    "        Converts the stock data into a csv file. Then read data into a dataframe using panda. It reverses the\n",
    "        table data to have the oldest date at the top and newest at the bottom. Then it will save the candlestick \n",
    "        graph as a candlestick.png.\n",
    "\"\"\"\n",
    "def candleSticK(stock):\n",
    "    url = get_url(stock)\n",
    "    write_to_csv(url)\n",
    "    df = pd.read_csv('output.csv', index_col=0, parse_dates=True)\n",
    "    df = df.reindex(index=df.index[::-1])\n",
    "    mpf.plot(df, type='candle', style='charles', title=get_company_name(url), ylabel=\"Price\", savefig=\"candlestick.png\")"
   ]
  },
  {
   "cell_type": "code",
   "execution_count": null,
   "metadata": {},
   "outputs": [],
   "source": []
  }
 ],
 "metadata": {
  "kernelspec": {
   "display_name": "Python 3",
   "language": "python",
   "name": "python3"
  },
  "language_info": {
   "codemirror_mode": {
    "name": "ipython",
    "version": 3
   },
   "file_extension": ".py",
   "mimetype": "text/x-python",
   "name": "python",
   "nbconvert_exporter": "python",
   "pygments_lexer": "ipython3",
   "version": "3.7.2"
  }
 },
 "nbformat": 4,
 "nbformat_minor": 4
}
